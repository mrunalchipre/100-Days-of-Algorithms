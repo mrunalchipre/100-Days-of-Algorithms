{
  "nbformat": 4,
  "nbformat_minor": 0,
  "metadata": {
    "colab": {
      "name": "Day1-Tower_of_Hanoi.ipynb",
      "provenance": [],
      "collapsed_sections": [],
      "authorship_tag": "ABX9TyM6Ul3Ll8ha2ixS17kY/tR9"
    },
    "kernelspec": {
      "name": "python3",
      "display_name": "Python 3"
    }
  },
  "cells": [
    {
      "cell_type": "code",
      "metadata": {
        "id": "iGC9PVG-smpP"
      },
      "source": [
        " def hanoi(height, left='A', right='C', middle='B'):\n",
        "        if height:\n",
        "            hanoi(height-1, left, middle, right)\n",
        "            print(left, '=>', right)\n",
        "            hanoi(height-1, middle, right, left)"
      ],
      "execution_count": null,
      "outputs": []
    },
    {
      "cell_type": "code",
      "metadata": {
        "id": "QJgEyhy3tVvY",
        "outputId": "024a3895-02d7-4b3c-bbab-18d84a13d303",
        "colab": {
          "base_uri": "https://localhost:8080/"
        }
      },
      "source": [
        "hanoi(1)"
      ],
      "execution_count": null,
      "outputs": [
        {
          "output_type": "stream",
          "text": [
            "A => C\n"
          ],
          "name": "stdout"
        }
      ]
    },
    {
      "cell_type": "code",
      "metadata": {
        "id": "fq1VNwW3tgqN",
        "outputId": "38704948-006c-4097-97dc-9cd212e57ce9",
        "colab": {
          "base_uri": "https://localhost:8080/"
        }
      },
      "source": [
        "hanoi(2)"
      ],
      "execution_count": null,
      "outputs": [
        {
          "output_type": "stream",
          "text": [
            "A => B\n",
            "A => C\n",
            "B => C\n"
          ],
          "name": "stdout"
        }
      ]
    },
    {
      "cell_type": "code",
      "metadata": {
        "id": "EvXYsF8etlRt",
        "outputId": "ee3721b3-4e8f-472e-8dca-763570b427d5",
        "colab": {
          "base_uri": "https://localhost:8080/"
        }
      },
      "source": [
        "hanoi(3)"
      ],
      "execution_count": null,
      "outputs": [
        {
          "output_type": "stream",
          "text": [
            "A => C\n",
            "A => B\n",
            "C => B\n",
            "A => C\n",
            "B => A\n",
            "B => C\n",
            "A => C\n"
          ],
          "name": "stdout"
        }
      ]
    },
    {
      "cell_type": "code",
      "metadata": {
        "id": "_Cb757xEtoE2",
        "outputId": "0b0b7c84-2a52-4fef-ff97-9efcac51c718",
        "colab": {
          "base_uri": "https://localhost:8080/"
        }
      },
      "source": [
        "hanoi(4)"
      ],
      "execution_count": null,
      "outputs": [
        {
          "output_type": "stream",
          "text": [
            "A => B\n",
            "A => C\n",
            "B => C\n",
            "A => B\n",
            "C => A\n",
            "C => B\n",
            "A => B\n",
            "A => C\n",
            "B => C\n",
            "B => A\n",
            "C => A\n",
            "B => C\n",
            "A => B\n",
            "A => C\n",
            "B => C\n"
          ],
          "name": "stdout"
        }
      ]
    }
  ]
}