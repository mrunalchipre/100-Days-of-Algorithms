{
  "nbformat": 4,
  "nbformat_minor": 0,
  "metadata": {
    "colab": {
      "name": "Day4-PostfixNotation.ipynb",
      "provenance": [],
      "authorship_tag": "ABX9TyOhF/ArEBbQDgScZGPKhy9t"
    },
    "kernelspec": {
      "name": "python3",
      "display_name": "Python 3"
    }
  },
  "cells": [
    {
      "cell_type": "code",
      "metadata": {
        "id": "GlezWpKrvSRf"
      },
      "source": [
        "ops = {\n",
        "    '+': float.__add__,\n",
        "    '-': float.__sub__,\n",
        "    '*': float.__mul__,\n",
        "    '/': float.__truediv__,\n",
        "    '^': float.__pow__,\n",
        "}\n",
        "\n",
        "def postfix(expression):\n",
        "    stack = []\n",
        "    \n",
        "    for x in expression.split():\n",
        "        if x in ops:\n",
        "            x = ops[x](stack.pop(-2), stack.pop(-1))\n",
        "        else:\n",
        "            x = float(x)\n",
        "        stack.append(x)\n",
        "        \n",
        "    return stack.pop()"
      ],
      "execution_count": 1,
      "outputs": []
    },
    {
      "cell_type": "code",
      "metadata": {
        "id": "RhE603NGva_H",
        "outputId": "9dbff859-6644-4cc5-8ed1-1f1f90547cd3",
        "colab": {
          "base_uri": "https://localhost:8080/"
        }
      },
      "source": [
        "postfix('1 2 + 4 3 - + 10 5 / *')"
      ],
      "execution_count": 2,
      "outputs": [
        {
          "output_type": "execute_result",
          "data": {
            "text/plain": [
              "8.0"
            ]
          },
          "metadata": {
            "tags": []
          },
          "execution_count": 2
        }
      ]
    },
    {
      "cell_type": "code",
      "metadata": {
        "id": "6PuvNW02vh_l",
        "outputId": "65813d15-fc40-4ac6-df89-cd5c9b087e1f",
        "colab": {
          "base_uri": "https://localhost:8080/"
        }
      },
      "source": [
        "postfix('1 2 3 4 5 + + + +')\n"
      ],
      "execution_count": 3,
      "outputs": [
        {
          "output_type": "execute_result",
          "data": {
            "text/plain": [
              "15.0"
            ]
          },
          "metadata": {
            "tags": []
          },
          "execution_count": 3
        }
      ]
    }
  ]
}