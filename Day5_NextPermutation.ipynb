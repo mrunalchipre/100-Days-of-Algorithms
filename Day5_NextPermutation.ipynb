{
  "nbformat": 4,
  "nbformat_minor": 0,
  "metadata": {
    "colab": {
      "name": "Day5-NextPermutation.ipynb",
      "provenance": [],
      "authorship_tag": "ABX9TyMTrsVVyoZybWH7kPvEiMEy",
      "include_colab_link": true
    },
    "kernelspec": {
      "name": "python3",
      "display_name": "Python 3"
    }
  },
  "cells": [
    {
      "cell_type": "markdown",
      "metadata": {
        "id": "view-in-github",
        "colab_type": "text"
      },
      "source": [
        "<a href=\"https://colab.research.google.com/github/mrunalchipre/100-Days-of-Algorithms/blob/main/Day5_NextPermutation.ipynb\" target=\"_parent\"><img src=\"https://colab.research.google.com/assets/colab-badge.svg\" alt=\"Open In Colab\"/></a>"
      ]
    },
    {
      "cell_type": "code",
      "metadata": {
        "id": "qxbOBzkwrxLW"
      },
      "source": [
        "def permute(values):\n",
        "    n = len(values)\n",
        "    \n",
        "    # i: position of pivot\n",
        "    for i in reversed(range(n - 1)):\n",
        "        if values[i] < values[i + 1]:\n",
        "            break\n",
        "    else:\n",
        "        # very last permutation\n",
        "        values[:] = reversed(values[:])\n",
        "        return values\n",
        "    \n",
        "    # j: position of the next candidate\n",
        "    for j in reversed(range(i, n)):\n",
        "        if values[i] < values[j]:\n",
        "            # swap pivot and reverse the tail\n",
        "            values[i], values[j] = values[j], values[i]\n",
        "            values[i + 1:] = reversed(values[i + 1:])\n",
        "            break\n",
        "            \n",
        "    return values"
      ],
      "execution_count": 1,
      "outputs": []
    },
    {
      "cell_type": "code",
      "metadata": {
        "id": "Ym4jIkxyuAJg",
        "outputId": "96616a10-fdf4-4b0b-ccde-8a7e6da8f1bd",
        "colab": {
          "base_uri": "https://localhost:8080/"
        }
      },
      "source": [
        "x = [4, 3, 2, 1]\n",
        "for i in range(25):\n",
        "    print(permute(x))"
      ],
      "execution_count": 2,
      "outputs": [
        {
          "output_type": "stream",
          "text": [
            "[1, 2, 3, 4]\n",
            "[1, 2, 4, 3]\n",
            "[1, 3, 2, 4]\n",
            "[1, 3, 4, 2]\n",
            "[1, 4, 2, 3]\n",
            "[1, 4, 3, 2]\n",
            "[2, 1, 3, 4]\n",
            "[2, 1, 4, 3]\n",
            "[2, 3, 1, 4]\n",
            "[2, 3, 4, 1]\n",
            "[2, 4, 1, 3]\n",
            "[2, 4, 3, 1]\n",
            "[3, 1, 2, 4]\n",
            "[3, 1, 4, 2]\n",
            "[3, 2, 1, 4]\n",
            "[3, 2, 4, 1]\n",
            "[3, 4, 1, 2]\n",
            "[3, 4, 2, 1]\n",
            "[4, 1, 2, 3]\n",
            "[4, 1, 3, 2]\n",
            "[4, 2, 1, 3]\n",
            "[4, 2, 3, 1]\n",
            "[4, 3, 1, 2]\n",
            "[4, 3, 2, 1]\n",
            "[1, 2, 3, 4]\n"
          ],
          "name": "stdout"
        }
      ]
    },
    {
      "cell_type": "code",
      "metadata": {
        "id": "DPxJ36SCuIM6",
        "outputId": "2759d763-453e-4057-d2fd-1440c3f7f92b",
        "colab": {
          "base_uri": "https://localhost:8080/"
        }
      },
      "source": [
        "permute(list('FADE'))"
      ],
      "execution_count": 3,
      "outputs": [
        {
          "output_type": "execute_result",
          "data": {
            "text/plain": [
              "['F', 'A', 'E', 'D']"
            ]
          },
          "metadata": {
            "tags": []
          },
          "execution_count": 3
        }
      ]
    },
    {
      "cell_type": "code",
      "metadata": {
        "id": "ZiYQ41OPuOJK",
        "outputId": "81b01992-937b-48e7-d3a5-48c9bc59fb36",
        "colab": {
          "base_uri": "https://localhost:8080/"
        }
      },
      "source": [
        "permute(list('HELLO'))"
      ],
      "execution_count": 4,
      "outputs": [
        {
          "output_type": "execute_result",
          "data": {
            "text/plain": [
              "['H', 'E', 'L', 'O', 'L']"
            ]
          },
          "metadata": {
            "tags": []
          },
          "execution_count": 4
        }
      ]
    }
  ]
}