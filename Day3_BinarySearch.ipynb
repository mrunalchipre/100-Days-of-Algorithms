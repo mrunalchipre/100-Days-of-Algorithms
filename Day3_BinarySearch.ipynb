{
  "nbformat": 4,
  "nbformat_minor": 0,
  "metadata": {
    "colab": {
      "name": "Day3-BinarySearch.ipynb",
      "provenance": [],
      "collapsed_sections": [],
      "authorship_tag": "ABX9TyOmeDoYAW6mzjeOPz8FOf7l"
    },
    "kernelspec": {
      "name": "python3",
      "display_name": "Python 3"
    }
  },
  "cells": [
    {
      "cell_type": "code",
      "metadata": {
        "id": "QWEan8rXc6f8"
      },
      "source": [
        "def search(data, item):\n",
        "    left, right = 0, len(data) - 1\n",
        "    \n",
        "    while left <= right:\n",
        "        middle = (left + right) // 2\n",
        "        \n",
        "        if item < data[middle]:\n",
        "            right = middle - 1\n",
        "        elif item > data[middle]:\n",
        "            left = middle + 1\n",
        "        else:\n",
        "            return middle\n",
        "        \n",
        "    return -1"
      ],
      "execution_count": 1,
      "outputs": []
    },
    {
      "cell_type": "code",
      "metadata": {
        "id": "Z-4U7EHSfYPW"
      },
      "source": [
        "data = [2, 3, 5, 6, 8, 9, 10, 11, 24, 25, 22, 26, 35, 45, 16]\n",
        "data = sorted(data)"
      ],
      "execution_count": 2,
      "outputs": []
    },
    {
      "cell_type": "code",
      "metadata": {
        "id": "Hqc1eWgqflle",
        "outputId": "6d6efa06-3324-4646-bf8e-fbea549360ab",
        "colab": {
          "base_uri": "https://localhost:8080/"
        }
      },
      "source": [
        "search(data, 5)"
      ],
      "execution_count": 3,
      "outputs": [
        {
          "output_type": "execute_result",
          "data": {
            "text/plain": [
              "2"
            ]
          },
          "metadata": {
            "tags": []
          },
          "execution_count": 3
        }
      ]
    },
    {
      "cell_type": "code",
      "metadata": {
        "id": "wnaKnpfzfrS9",
        "outputId": "c1ea1b06-9180-46a5-8707-f6ddbefbac33",
        "colab": {
          "base_uri": "https://localhost:8080/"
        }
      },
      "source": [
        "search(data, 15)"
      ],
      "execution_count": 4,
      "outputs": [
        {
          "output_type": "execute_result",
          "data": {
            "text/plain": [
              "-1"
            ]
          },
          "metadata": {
            "tags": []
          },
          "execution_count": 4
        }
      ]
    },
    {
      "cell_type": "code",
      "metadata": {
        "id": "NjuHqBgufx4z",
        "outputId": "6e19741a-dd92-44b4-81d6-16f406765236",
        "colab": {
          "base_uri": "https://localhost:8080/"
        }
      },
      "source": [
        "search(data, 22)"
      ],
      "execution_count": 5,
      "outputs": [
        {
          "output_type": "execute_result",
          "data": {
            "text/plain": [
              "9"
            ]
          },
          "metadata": {
            "tags": []
          },
          "execution_count": 5
        }
      ]
    }
  ]
}