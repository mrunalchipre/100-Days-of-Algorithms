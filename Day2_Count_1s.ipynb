{
  "nbformat": 4,
  "nbformat_minor": 0,
  "metadata": {
    "colab": {
      "name": "Day2-Count_1s.ipynb",
      "provenance": [],
      "collapsed_sections": [],
      "authorship_tag": "ABX9TyOpJ/p0wNofzxW43UXRDtIC"
    },
    "kernelspec": {
      "name": "python3",
      "display_name": "Python 3"
    }
  },
  "cells": [
    {
      "cell_type": "code",
      "metadata": {
        "id": "cMcRuU4JbSaY"
      },
      "source": [
        "def count_of_bits(value):\n",
        "        n = 0\n",
        "        while value:\n",
        "                value &= value-1\n",
        "                n += 1\n",
        "        return n"
      ],
      "execution_count": 1,
      "outputs": []
    },
    {
      "cell_type": "code",
      "metadata": {
        "id": "Avksz2ZUbkta",
        "outputId": "4f1a42a5-6d6f-4ca7-d998-c0f2b3773ab0",
        "colab": {
          "base_uri": "https://localhost:8080/"
        }
      },
      "source": [
        "count_of_bits(0b10010010)"
      ],
      "execution_count": 3,
      "outputs": [
        {
          "output_type": "execute_result",
          "data": {
            "text/plain": [
              "3"
            ]
          },
          "metadata": {
            "tags": []
          },
          "execution_count": 3
        }
      ]
    },
    {
      "cell_type": "code",
      "metadata": {
        "id": "pLq2aCAIb3Jg",
        "outputId": "556a9133-dc58-4694-e4fb-7ac4ecc96359",
        "colab": {
          "base_uri": "https://localhost:8080/"
        }
      },
      "source": [
        "count_of_bits(0b01100110101001)"
      ],
      "execution_count": 4,
      "outputs": [
        {
          "output_type": "execute_result",
          "data": {
            "text/plain": [
              "7"
            ]
          },
          "metadata": {
            "tags": []
          },
          "execution_count": 4
        }
      ]
    }
  ]
}